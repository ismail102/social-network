{
 "cells": [
  {
   "cell_type": "code",
   "execution_count": 18,
   "metadata": {},
   "outputs": [],
   "source": [
    "import torch\n",
    "import pandas as pd\n",
    "from tqdm.notebook import tqdm\n",
    "from torch.utils.data import DataLoader"
   ]
  },
  {
   "cell_type": "code",
   "execution_count": 19,
   "metadata": {},
   "outputs": [],
   "source": [
    "file_name = 'fox-4-abortion'\n",
    "df = pd.read_csv(f\"/home/siu856533724/code/source-code/Social-Networks/Trend-Prediction/DataSet/reply-tree/csv/{file_name}.csv\")"
   ]
  },
  {
   "cell_type": "code",
   "execution_count": 20,
   "metadata": {},
   "outputs": [
    {
     "data": {
      "text/html": [
       "<div>\n",
       "<style scoped>\n",
       "    .dataframe tbody tr th:only-of-type {\n",
       "        vertical-align: middle;\n",
       "    }\n",
       "\n",
       "    .dataframe tbody tr th {\n",
       "        vertical-align: top;\n",
       "    }\n",
       "\n",
       "    .dataframe thead th {\n",
       "        text-align: right;\n",
       "    }\n",
       "</style>\n",
       "<table border=\"1\" class=\"dataframe\">\n",
       "  <thead>\n",
       "    <tr style=\"text-align: right;\">\n",
       "      <th></th>\n",
       "      <th>Unnamed: 0</th>\n",
       "      <th>comment</th>\n",
       "      <th>time</th>\n",
       "      <th>username</th>\n",
       "      <th>id</th>\n",
       "      <th>timestamp</th>\n",
       "      <th>time_diff</th>\n",
       "    </tr>\n",
       "  </thead>\n",
       "  <tbody>\n",
       "    <tr>\n",
       "      <th>0</th>\n",
       "      <td>64</td>\n",
       "      <td>You will have a whole a lot of accountability ...</td>\n",
       "      <td>7 Jan, 2024 07:13 AM</td>\n",
       "      <td>punion</td>\n",
       "      <td>65</td>\n",
       "      <td>2024-01-07 07:13:00</td>\n",
       "      <td>0 days 00:00:00</td>\n",
       "    </tr>\n",
       "    <tr>\n",
       "      <th>1</th>\n",
       "      <td>243</td>\n",
       "      <td>Abortions = the new legal way to murder the in...</td>\n",
       "      <td>7 Jan, 2024 07:17 AM</td>\n",
       "      <td>victoria080</td>\n",
       "      <td>244</td>\n",
       "      <td>2024-01-07 07:17:00</td>\n",
       "      <td>0 days 00:04:00</td>\n",
       "    </tr>\n",
       "    <tr>\n",
       "      <th>2</th>\n",
       "      <td>301</td>\n",
       "      <td>maybe you should have had your many partners w...</td>\n",
       "      <td>7 Jan, 2024 07:18 AM</td>\n",
       "      <td>ZombiesEatBrainsLibsRsafe</td>\n",
       "      <td>302</td>\n",
       "      <td>2024-01-07 07:18:00</td>\n",
       "      <td>0 days 00:05:00</td>\n",
       "    </tr>\n",
       "    <tr>\n",
       "      <th>3</th>\n",
       "      <td>26</td>\n",
       "      <td>The author needs to learn to use an aspirin fo...</td>\n",
       "      <td>7 Jan, 2024 07:19 AM</td>\n",
       "      <td>buzzard10264</td>\n",
       "      <td>27</td>\n",
       "      <td>2024-01-07 07:19:00</td>\n",
       "      <td>0 days 00:06:00</td>\n",
       "    </tr>\n",
       "    <tr>\n",
       "      <th>4</th>\n",
       "      <td>134</td>\n",
       "      <td>Four Abortions? You should be locked up.</td>\n",
       "      <td>7 Jan, 2024 07:19 AM</td>\n",
       "      <td>45twice</td>\n",
       "      <td>135</td>\n",
       "      <td>2024-01-07 07:19:00</td>\n",
       "      <td>0 days 00:06:00</td>\n",
       "    </tr>\n",
       "  </tbody>\n",
       "</table>\n",
       "</div>"
      ],
      "text/plain": [
       "   Unnamed: 0                                            comment  \\\n",
       "0          64  You will have a whole a lot of accountability ...   \n",
       "1         243  Abortions = the new legal way to murder the in...   \n",
       "2         301  maybe you should have had your many partners w...   \n",
       "3          26  The author needs to learn to use an aspirin fo...   \n",
       "4         134           Four Abortions? You should be locked up.   \n",
       "\n",
       "                   time                   username   id            timestamp  \\\n",
       "0  7 Jan, 2024 07:13 AM                     punion   65  2024-01-07 07:13:00   \n",
       "1  7 Jan, 2024 07:17 AM                victoria080  244  2024-01-07 07:17:00   \n",
       "2  7 Jan, 2024 07:18 AM  ZombiesEatBrainsLibsRsafe  302  2024-01-07 07:18:00   \n",
       "3  7 Jan, 2024 07:19 AM               buzzard10264   27  2024-01-07 07:19:00   \n",
       "4  7 Jan, 2024 07:19 AM                    45twice  135  2024-01-07 07:19:00   \n",
       "\n",
       "         time_diff  \n",
       "0  0 days 00:00:00  \n",
       "1  0 days 00:04:00  \n",
       "2  0 days 00:05:00  \n",
       "3  0 days 00:06:00  \n",
       "4  0 days 00:06:00  "
      ]
     },
     "execution_count": 20,
     "metadata": {},
     "output_type": "execute_result"
    }
   ],
   "source": [
    "df.head()"
   ]
  },
  {
   "cell_type": "code",
   "execution_count": 21,
   "metadata": {},
   "outputs": [],
   "source": [
    "df = df.sort_values('id')"
   ]
  },
  {
   "cell_type": "code",
   "execution_count": 22,
   "metadata": {},
   "outputs": [
    {
     "data": {
      "text/html": [
       "<div>\n",
       "<style scoped>\n",
       "    .dataframe tbody tr th:only-of-type {\n",
       "        vertical-align: middle;\n",
       "    }\n",
       "\n",
       "    .dataframe tbody tr th {\n",
       "        vertical-align: top;\n",
       "    }\n",
       "\n",
       "    .dataframe thead th {\n",
       "        text-align: right;\n",
       "    }\n",
       "</style>\n",
       "<table border=\"1\" class=\"dataframe\">\n",
       "  <thead>\n",
       "    <tr style=\"text-align: right;\">\n",
       "      <th></th>\n",
       "      <th>Unnamed: 0</th>\n",
       "      <th>comment</th>\n",
       "      <th>time</th>\n",
       "      <th>username</th>\n",
       "      <th>id</th>\n",
       "      <th>timestamp</th>\n",
       "      <th>time_diff</th>\n",
       "    </tr>\n",
       "  </thead>\n",
       "  <tbody>\n",
       "    <tr>\n",
       "      <th>34</th>\n",
       "      <td>0</td>\n",
       "      <td>\"The options are vast for women facing unplann...</td>\n",
       "      <td>7 Jan, 2024 07:44 AM</td>\n",
       "      <td>scruffypup</td>\n",
       "      <td>1</td>\n",
       "      <td>2024-01-07 07:44:00</td>\n",
       "      <td>0 days 00:31:00</td>\n",
       "    </tr>\n",
       "    <tr>\n",
       "      <th>741</th>\n",
       "      <td>1</td>\n",
       "      <td>It's too bad Republicans always try to fight a...</td>\n",
       "      <td>7 Jan, 2024 06:45 PM</td>\n",
       "      <td>🇺🇸USA🇺🇸🇮🇱Israel🇮🇱🇺🇦Ukraine🇺🇦</td>\n",
       "      <td>2</td>\n",
       "      <td>2024-01-07 18:45:00</td>\n",
       "      <td>0 days 11:32:00</td>\n",
       "    </tr>\n",
       "    <tr>\n",
       "      <th>749</th>\n",
       "      <td>2</td>\n",
       "      <td>Are they fighting all birth control or just ab...</td>\n",
       "      <td>7 Jan, 2024 07:09 PM</td>\n",
       "      <td>scruffypup</td>\n",
       "      <td>3</td>\n",
       "      <td>2024-01-07 19:09:00</td>\n",
       "      <td>0 days 11:56:00</td>\n",
       "    </tr>\n",
       "    <tr>\n",
       "      <th>738</th>\n",
       "      <td>3</td>\n",
       "      <td>Exactly.</td>\n",
       "      <td>7 Jan, 2024 06:26 PM</td>\n",
       "      <td>teachtolove123</td>\n",
       "      <td>4</td>\n",
       "      <td>2024-01-07 18:26:00</td>\n",
       "      <td>0 days 11:13:00</td>\n",
       "    </tr>\n",
       "    <tr>\n",
       "      <th>125</th>\n",
       "      <td>4</td>\n",
       "      <td>This is such a heartbreaking and devastating p...</td>\n",
       "      <td>7 Jan, 2024 08:20 AM</td>\n",
       "      <td>BFDfromSC</td>\n",
       "      <td>5</td>\n",
       "      <td>2024-01-07 08:20:00</td>\n",
       "      <td>0 days 01:07:00</td>\n",
       "    </tr>\n",
       "  </tbody>\n",
       "</table>\n",
       "</div>"
      ],
      "text/plain": [
       "     Unnamed: 0                                            comment  \\\n",
       "34            0  \"The options are vast for women facing unplann...   \n",
       "741           1  It's too bad Republicans always try to fight a...   \n",
       "749           2  Are they fighting all birth control or just ab...   \n",
       "738           3                                          Exactly.    \n",
       "125           4  This is such a heartbreaking and devastating p...   \n",
       "\n",
       "                     time                      username  id  \\\n",
       "34   7 Jan, 2024 07:44 AM                    scruffypup   1   \n",
       "741  7 Jan, 2024 06:45 PM  🇺🇸USA🇺🇸🇮🇱Israel🇮🇱🇺🇦Ukraine🇺🇦   2   \n",
       "749  7 Jan, 2024 07:09 PM                    scruffypup   3   \n",
       "738  7 Jan, 2024 06:26 PM                teachtolove123   4   \n",
       "125  7 Jan, 2024 08:20 AM                     BFDfromSC   5   \n",
       "\n",
       "               timestamp        time_diff  \n",
       "34   2024-01-07 07:44:00  0 days 00:31:00  \n",
       "741  2024-01-07 18:45:00  0 days 11:32:00  \n",
       "749  2024-01-07 19:09:00  0 days 11:56:00  \n",
       "738  2024-01-07 18:26:00  0 days 11:13:00  \n",
       "125  2024-01-07 08:20:00  0 days 01:07:00  "
      ]
     },
     "execution_count": 22,
     "metadata": {},
     "output_type": "execute_result"
    }
   ],
   "source": [
    "df.head()"
   ]
  },
  {
   "cell_type": "code",
   "execution_count": 23,
   "metadata": {},
   "outputs": [],
   "source": [
    "trends = [\"approval\",\"toxic\",\"obscene\", 'insult', \"threat\", \"hate\", \"offensive\", \"neither\"]"
   ]
  },
  {
   "cell_type": "code",
   "execution_count": 24,
   "metadata": {},
   "outputs": [],
   "source": [
    "from utils.common_functions import get_emotions\n",
    "emotions = get_emotions().values()\n",
    "n_labels = len(emotions)\n",
    "def get_labels():\n",
    "    labels = list(emotions)\n",
    "    return labels"
   ]
  },
  {
   "cell_type": "code",
   "execution_count": 25,
   "metadata": {},
   "outputs": [],
   "source": [
    "def classifier(data_loader, model, device):\n",
    "    model.eval()\n",
    "    fin_outputs = []\n",
    "    with torch.no_grad():\n",
    "        for bi, d in tqdm(enumerate(data_loader), total=len(data_loader)):\n",
    "            ids = d[\"ids\"]\n",
    "            mask = d[\"mask\"]\n",
    "\n",
    "            ids = ids.to(device, dtype=torch.long)\n",
    "            mask = mask.to(device, dtype=torch.long)\n",
    "\n",
    "            outputs = model(ids, attention_mask=mask)\n",
    "\n",
    "            fin_outputs.extend(torch.nn.functional.softmax(outputs.logits))\n",
    "\n",
    "    return fin_outputs"
   ]
  },
  {
   "cell_type": "code",
   "execution_count": 26,
   "metadata": {},
   "outputs": [],
   "source": [
    "from utils.dataset import Dataset\n",
    "\n",
    "def build_dataset(tokenizer_max_len, tokenizer, is_labels):\n",
    "    dataset = Dataset(df.comment.tolist(), df[trends].values.tolist() if is_labels else [], tokenizer, tokenizer_max_len)\n",
    "    return dataset\n",
    "    # return train_dataset, valid_dataset\n",
    "\n",
    "def build_dataloader(dataset, batch_size):\n",
    "    data_loader = DataLoader(dataset, batch_size=batch_size, shuffle=True, num_workers=1)\n",
    "    return data_loader\n",
    "    # return train_data_loader, valid_data_loader"
   ]
  },
  {
   "cell_type": "code",
   "execution_count": 27,
   "metadata": {},
   "outputs": [
    {
     "name": "stderr",
     "output_type": "stream",
     "text": [
      "Some weights of the model checkpoint at bert-base-uncased were not used when initializing BertForSequenceClassification: ['cls.seq_relationship.weight', 'cls.predictions.transform.dense.weight', 'cls.predictions.transform.dense.bias', 'cls.seq_relationship.bias', 'cls.predictions.transform.LayerNorm.weight', 'cls.predictions.transform.LayerNorm.bias', 'cls.predictions.decoder.weight', 'cls.predictions.bias']\n",
      "- This IS expected if you are initializing BertForSequenceClassification from the checkpoint of a model trained on another task or with another architecture (e.g. initializing a BertForSequenceClassification model from a BertForPreTraining model).\n",
      "- This IS NOT expected if you are initializing BertForSequenceClassification from the checkpoint of a model that you expect to be exactly identical (initializing a BertForSequenceClassification model from a BertForSequenceClassification model).\n",
      "Some weights of BertForSequenceClassification were not initialized from the model checkpoint at bert-base-uncased and are newly initialized: ['classifier.bias', 'classifier.weight']\n",
      "You should probably TRAIN this model on a down-stream task to be able to use it for predictions and inference.\n"
     ]
    }
   ],
   "source": [
    "from utils.bert_classifier import get_model_tokenizer, Tokenize, Classification\n",
    "# Test sentiment prediction\n",
    "# test_text = \"I love you\"\n",
    "model_emotion, tokenizer_emotion = get_model_tokenizer(pred_type='emotion_pred', mode_pt_file='best_emotion_bert-base-uncased-20_12_2023-23_14_48.pt', \n",
    "                                       model_ckpt='bert-base-uncased', labels=28, is_freez=1, gpu='cuda')"
   ]
  },
  {
   "cell_type": "code",
   "execution_count": 28,
   "metadata": {},
   "outputs": [
    {
     "data": {
      "application/vnd.jupyter.widget-view+json": {
       "model_id": "35e2030748674c62b10ab94cb8822d5d",
       "version_major": 2,
       "version_minor": 0
      },
      "text/plain": [
       "  0%|          | 0/48 [00:00<?, ?it/s]"
      ]
     },
     "metadata": {},
     "output_type": "display_data"
    }
   ],
   "source": [
    "from utils.test import test_fn\n",
    "\n",
    "dataset = build_dataset(tokenizer_max_len=30, tokenizer=tokenizer_emotion, is_labels=False)\n",
    "data_loader = build_dataloader(dataset, batch_size=16)\n",
    "preds = classifier(data_loader=data_loader, model=model_emotion, device='cuda')\n",
    "\n",
    "preds = torch.stack(preds)\n",
    "preds = preds.cpu().detach().numpy()"
   ]
  },
  {
   "cell_type": "code",
   "execution_count": 29,
   "metadata": {},
   "outputs": [],
   "source": [
    "map_list = []\n",
    "labels = get_labels()\n",
    "for i, t in enumerate(range(len(preds))):\n",
    "    data_map = {}\n",
    "    # data_map['id'] = id\n",
    "    data_map['id'] = (i+1)\n",
    "    for j, label in enumerate(labels):\n",
    "        data_map[label] = preds[i][j]\n",
    "    map_list.append(data_map)\n",
    "\n",
    "df_fox_emotion = pd.DataFrame(data=map_list)"
   ]
  },
  {
   "cell_type": "code",
   "execution_count": 30,
   "metadata": {},
   "outputs": [],
   "source": [
    "df_fox_emotion.to_csv(f'/home/siu856533724/code/source-code/Social-Networks/Trend-Prediction/DataSet/reply-tree/csv/{file_name}-emotions.csv')"
   ]
  },
  {
   "cell_type": "markdown",
   "metadata": {},
   "source": [
    "## Trend Prediction"
   ]
  },
  {
   "cell_type": "code",
   "execution_count": 31,
   "metadata": {},
   "outputs": [
    {
     "name": "stderr",
     "output_type": "stream",
     "text": [
      "Some weights of the model checkpoint at bert-base-uncased were not used when initializing BertForSequenceClassification: ['cls.seq_relationship.weight', 'cls.predictions.transform.dense.weight', 'cls.predictions.transform.dense.bias', 'cls.seq_relationship.bias', 'cls.predictions.transform.LayerNorm.weight', 'cls.predictions.transform.LayerNorm.bias', 'cls.predictions.decoder.weight', 'cls.predictions.bias']\n",
      "- This IS expected if you are initializing BertForSequenceClassification from the checkpoint of a model trained on another task or with another architecture (e.g. initializing a BertForSequenceClassification model from a BertForPreTraining model).\n",
      "- This IS NOT expected if you are initializing BertForSequenceClassification from the checkpoint of a model that you expect to be exactly identical (initializing a BertForSequenceClassification model from a BertForSequenceClassification model).\n",
      "Some weights of BertForSequenceClassification were not initialized from the model checkpoint at bert-base-uncased and are newly initialized: ['classifier.bias', 'classifier.weight']\n",
      "You should probably TRAIN this model on a down-stream task to be able to use it for predictions and inference.\n"
     ]
    }
   ],
   "source": [
    "model_trend, tokenizer_trend = get_model_tokenizer(pred_type='trend_pred', mode_pt_file='best_trend_bert-base-uncased-18_12_2023-12_49_37.pt', \n",
    "                                       model_ckpt='bert-base-uncased', labels=8, is_freez=1, gpu='cuda')"
   ]
  },
  {
   "cell_type": "code",
   "execution_count": 32,
   "metadata": {},
   "outputs": [
    {
     "data": {
      "application/vnd.jupyter.widget-view+json": {
       "model_id": "0a0d9c23254d4f40a0d0339c81d1b49d",
       "version_major": 2,
       "version_minor": 0
      },
      "text/plain": [
       "  0%|          | 0/48 [00:00<?, ?it/s]"
      ]
     },
     "metadata": {},
     "output_type": "display_data"
    }
   ],
   "source": [
    "dataset = build_dataset(tokenizer_max_len=30, tokenizer=tokenizer_trend, is_labels=False)\n",
    "data_loader = build_dataloader(dataset, batch_size=16)\n",
    "preds = classifier(data_loader=data_loader, model=model_trend, device='cuda')\n",
    "preds = torch.stack(preds)\n",
    "preds = preds.cpu().detach().numpy()"
   ]
  },
  {
   "cell_type": "code",
   "execution_count": 33,
   "metadata": {},
   "outputs": [],
   "source": [
    "map_list = []\n",
    "labels = [\"approval\",\"toxic\",\"obscene\", 'insult', \"threat\", \"hate\", \"offensive\", \"neither\"]\n",
    "for i, t in enumerate(range(len(preds))):\n",
    "    data_map = {}\n",
    "    # data_map['id'] = id\n",
    "    data_map['id'] = (i+1)\n",
    "    for j, label in enumerate(labels):\n",
    "        data_map[label] = preds[i][j]\n",
    "    map_list.append(data_map)\n",
    "\n",
    "df_fox_trend = pd.DataFrame(data=map_list)"
   ]
  },
  {
   "cell_type": "code",
   "execution_count": 34,
   "metadata": {},
   "outputs": [],
   "source": [
    "df_fox_trend.to_csv(f'/home/siu856533724/code/source-code/Social-Networks/Trend-Prediction/DataSet/reply-tree/csv/{file_name}-trends.csv')"
   ]
  }
 ],
 "metadata": {
  "kernelspec": {
   "display_name": "Python 3",
   "language": "python",
   "name": "python3"
  },
  "language_info": {
   "codemirror_mode": {
    "name": "ipython",
    "version": 3
   },
   "file_extension": ".py",
   "mimetype": "text/x-python",
   "name": "python",
   "nbconvert_exporter": "python",
   "pygments_lexer": "ipython3",
   "version": "3.9.13"
  }
 },
 "nbformat": 4,
 "nbformat_minor": 2
}
