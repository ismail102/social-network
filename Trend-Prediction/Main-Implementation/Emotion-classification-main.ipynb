{
 "cells": [
  {
   "cell_type": "markdown",
   "metadata": {},
   "source": [
    "## Question Answering with a fine-tuned BERT on CoQA dataset\n",
    "\n",
    "### Importing the libraries"
   ]
  },
  {
   "cell_type": "code",
   "execution_count": 1,
   "metadata": {},
   "outputs": [
    {
     "name": "stderr",
     "output_type": "stream",
     "text": [
      "2023-05-08 13:47:41.564761: I tensorflow/core/util/port.cc:110] oneDNN custom operations are on. You may see slightly different numerical results due to floating-point round-off errors from different computation orders. To turn them off, set the environment variable `TF_ENABLE_ONEDNN_OPTS=0`.\n",
      "2023-05-08 13:47:41.608290: I tensorflow/core/platform/cpu_feature_guard.cc:182] This TensorFlow binary is optimized to use available CPU instructions in performance-critical operations.\n",
      "To enable the following instructions: AVX2 AVX512F AVX512_VNNI FMA, in other operations, rebuild TensorFlow with the appropriate compiler flags.\n",
      "2023-05-08 13:47:42.171857: W tensorflow/compiler/tf2tensorrt/utils/py_utils.cc:38] TF-TRT Warning: Could not find TensorRT\n"
     ]
    }
   ],
   "source": [
    "import pandas as pd\n",
    "import numpy as np\n",
    "import matplotlib.pyplot as plt\n",
    "import seaborn as sns\n",
    "\n",
    "# !pip install transformers\n",
    "\n",
    "import torch\n",
    "from transformers import BertForQuestionAnswering\n",
    "from transformers import BertTokenizer, AutoTokenizer\n",
    "from transformers import AutoModel, AutoConfig, AutoModelForSequenceClassification, BertForSequenceClassification\n",
    "from torch.utils.data import DataLoader, RandomSampler, SequentialSampler\n",
    "\n",
    "import os\n",
    "import torch\n",
    "import numpy as np\n",
    "import logging.config\n",
    "from tqdm import tqdm\n",
    "import matplotlib.pyplot as plt\n",
    "# from dataset import load_dataset, visualize_dataset\n",
    "import string\n",
    "import copy\n",
    "from re import sub\n",
    "from nltk import WordNetLemmatizer\n",
    "from nltk.corpus import stopwords\n",
    "from transformers import Trainer\n",
    "os.environ['WANDB_DISABLED'] = 'true'\n",
    "from functools import partial\n",
    "from time import sleep\n",
    "\n",
    "from tqdm.notebook import tqdm_notebook\n",
    "from tqdm.notebook import tnrange\n",
    "\n",
    "import warnings\n",
    "warnings.filterwarnings('ignore')"
   ]
  },
  {
   "cell_type": "code",
   "execution_count": 2,
   "metadata": {},
   "outputs": [
    {
     "name": "stdout",
     "output_type": "stream",
     "text": [
      "Device: cuda\n"
     ]
    }
   ],
   "source": [
    "from utils.config import get_arguments\n",
    "args = get_arguments()\n",
    "DEVICE = torch.device(args.gpu if torch.cuda.is_available() else \"cpu\")\n",
    "print('Device:', DEVICE)"
   ]
  },
  {
   "cell_type": "code",
   "execution_count": 3,
   "metadata": {},
   "outputs": [
    {
     "data": {
      "text/plain": [
       "'/home/siu856533724/code/source-code/Social-Networks/Trend-Prediction/DataSet/csv'"
      ]
     },
     "execution_count": 3,
     "metadata": {},
     "output_type": "execute_result"
    }
   ],
   "source": [
    "args.data_dir"
   ]
  },
  {
   "cell_type": "code",
   "execution_count": 4,
   "metadata": {},
   "outputs": [],
   "source": [
    "# from utils.dataset import get_dataset\n",
    "# dataset = get_dataset(args.data_set, args.data_dir)\n",
    "# df = dataset['dataset1'][0:1000]\n",
    "# df.head()"
   ]
  },
  {
   "cell_type": "code",
   "execution_count": 5,
   "metadata": {},
   "outputs": [
    {
     "name": "stderr",
     "output_type": "stream",
     "text": [
      "No config specified, defaulting to: go_emotions/simplified\n",
      "Found cached dataset go_emotions (/home/siu856533724/.cache/huggingface/datasets/go_emotions/simplified/0.0.0/2637cfdd4e64d30249c3ed2150fa2b9d279766bfcd6a809b9f085c61a90d776d)\n"
     ]
    },
    {
     "data": {
      "application/vnd.jupyter.widget-view+json": {
       "model_id": "5705737e87cf45fd850a22f4c0e92351",
       "version_major": 2,
       "version_minor": 0
      },
      "text/plain": [
       "  0%|          | 0/3 [00:00<?, ?it/s]"
      ]
     },
     "metadata": {},
     "output_type": "display_data"
    }
   ],
   "source": [
    "from datasets import load_dataset\n",
    "gemotion_data = load_dataset(\"go_emotions\")\n",
    "gemotion_data = gemotion_data.data\n",
    "train, valid, test = gemotion_data[\"train\"].to_pandas(), gemotion_data[\"validation\"].to_pandas(), gemotion_data[\"test\"].to_pandas()\n",
    "# df = train #pd.concat([train, valid, test], axis=0)\n",
    "# df.head()\n"
   ]
  },
  {
   "cell_type": "code",
   "execution_count": 6,
   "metadata": {},
   "outputs": [],
   "source": [
    "def one_hot_encoder(df):\n",
    "    one_hot_encoding = []\n",
    "    for i in tqdm(range(len(df))):\n",
    "        temp = [0]*28\n",
    "        label_indices = df.iloc[i][\"labels\"]\n",
    "        # print(label_indices)\n",
    "        for index in label_indices:\n",
    "            temp[index] = 1\n",
    "        one_hot_encoding.append(temp)\n",
    "    return pd.DataFrame(one_hot_encoding)"
   ]
  },
  {
   "cell_type": "code",
   "execution_count": 7,
   "metadata": {},
   "outputs": [
    {
     "name": "stderr",
     "output_type": "stream",
     "text": [
      "100%|██████████| 43410/43410 [00:01<00:00, 40660.48it/s]\n",
      "100%|██████████| 5427/5427 [00:00<00:00, 40420.80it/s]\n",
      "100%|██████████| 5426/5426 [00:00<00:00, 40578.51it/s]\n"
     ]
    }
   ],
   "source": [
    "train_ohe_labels = one_hot_encoder(train)\n",
    "test_ohe_labels = one_hot_encoder(test)\n",
    "valid_ohe_labels = one_hot_encoder(valid)\n",
    "# df_ohe_labels.shape"
   ]
  },
  {
   "cell_type": "code",
   "execution_count": 8,
   "metadata": {},
   "outputs": [],
   "source": [
    "train = pd.concat([train, train_ohe_labels], axis=1)\n",
    "test = pd.concat([test, test_ohe_labels], axis=1)\n",
    "valid = pd.concat([valid, valid_ohe_labels], axis=1)"
   ]
  },
  {
   "cell_type": "code",
   "execution_count": 9,
   "metadata": {},
   "outputs": [],
   "source": [
    "from utils.preprocessing import get_clean_dataset\n",
    "\n",
    "# df_clean = get_clean_dataset(data_frame)\n",
    "# counts = df['label'].value_counts()\n",
    "# df = df[~df['label'].isin(counts[counts < 50].index)]"
   ]
  },
  {
   "cell_type": "code",
   "execution_count": 10,
   "metadata": {},
   "outputs": [],
   "source": [
    "# category_list = df_clean.labels.unique()\n",
    "# category_list = list(category_list)"
   ]
  },
  {
   "cell_type": "code",
   "execution_count": 11,
   "metadata": {},
   "outputs": [],
   "source": [
    "mapping = {\n",
    "    0:\"admiration\",\n",
    "    1:\"amusement\",\n",
    "    2:\"anger\",\n",
    "    3:\"annoyance\",\n",
    "    4:\"approval\",\n",
    "    5:\"caring\",\n",
    "    6:\"confusion\",\n",
    "    7:\"curiosity\",\n",
    "    8:\"desire\",\n",
    "    9:\"disappointment\",\n",
    "    10:\"disapproval\",\n",
    "    11:\"disgust\",\n",
    "    12:\"embarrassment\",\n",
    "    13:\"excitement\",\n",
    "    14:\"fear\",\n",
    "    15:\"gratitude\",\n",
    "    16:\"grief\",\n",
    "    17:\"joy\",\n",
    "    18:\"love\",\n",
    "    19:\"nervousness\",\n",
    "    20:\"optimism\",\n",
    "    21:\"pride\",\n",
    "    22:\"realization\",\n",
    "    23:\"relief\",\n",
    "    24:\"remorse\",\n",
    "    25:\"sadness\",\n",
    "    26:\"surprise\",\n",
    "    27:\"neutral\",\n",
    "}\n",
    "\n",
    "# n_labels = len(mapping)"
   ]
  },
  {
   "cell_type": "code",
   "execution_count": 12,
   "metadata": {},
   "outputs": [],
   "source": [
    "# class_names = []\n",
    "# mapping = {}\n",
    "\n",
    "# class_names = list(mapping.values())\n",
    "# mapping = {}\n",
    "# for i, name in enumerate(category_list):\n",
    "#     mapping[name] = i\n",
    "\n",
    "# print(mapping)\n",
    "args.num_labels = len(mapping)"
   ]
  },
  {
   "cell_type": "code",
   "execution_count": 13,
   "metadata": {},
   "outputs": [],
   "source": [
    "# data_frame = df_clean.loc[df_clean[\"labels\"] != 'empty' ]\n",
    "# data_frame['labels'] = data_frame['labels'].str.strip().map(mapping)"
   ]
  },
  {
   "cell_type": "code",
   "execution_count": 14,
   "metadata": {},
   "outputs": [],
   "source": [
    "# output_path =  './outputs/{}_{}_{}_{}_{}.csv'.format(ckpt, NUM_EPOCHS , LOCAL_ITERS, BATCH_SIZE, NUM_CLIENTS)"
   ]
  },
  {
   "cell_type": "code",
   "execution_count": 15,
   "metadata": {},
   "outputs": [],
   "source": [
    "# Get the lists of sentences and their labels.\n",
    "# sentences = data_frame.text.values\n",
    "# labels = data_frame.label.values\n",
    "# labels = labels.astype('int64')"
   ]
  },
  {
   "cell_type": "code",
   "execution_count": 16,
   "metadata": {},
   "outputs": [],
   "source": [
    "# from sklearn.utils import shuffle\n",
    "# data_frame = shuffle(data_frame)\n",
    "# train_size = 0.8\n",
    "# validate_size = 0.1\n",
    "# # Spliting the dataset into 3 parts Training, Test, and Validation\n",
    "# train, valid, test = np.split(data_frame, [int(train_size * len(data_frame)), int((validate_size + train_size) * len(data_frame))])"
   ]
  },
  {
   "cell_type": "code",
   "execution_count": 17,
   "metadata": {},
   "outputs": [
    {
     "name": "stdout",
     "output_type": "stream",
     "text": [
      "Dataset information:\n",
      "Training data: (43410, 31)\n",
      "Validation data: (5426, 31)\n",
      "Test data: (5427, 31)\n"
     ]
    }
   ],
   "source": [
    "print('Dataset information:')\n",
    "print(f'Training data: {train.shape}')\n",
    "print(f'Validation data: {valid.shape}')\n",
    "print(f'Test data: {test.shape}')\n",
    "\n",
    "# train = train.reset_index(drop=True)\n",
    "# test = test.reset_index(drop=True)\n",
    "# valid = test.reset_index(drop=True)"
   ]
  },
  {
   "cell_type": "code",
   "execution_count": 18,
   "metadata": {},
   "outputs": [],
   "source": [
    "from transformers import AutoModel\n",
    "import torch.nn as nn\n",
    "\n",
    "class TextClassification(nn.Module):\n",
    "    def __init__ (self, args):\n",
    "        super(TextClassification, self).__init__()\n",
    "        self.model = AutoModel.from_pretrained(args.model_ckpt)\n",
    "        self.dropout = nn.Dropout(args.dropout)\n",
    "        self.out = nn.Linear(768, args.num_labels)\n",
    "        self.n_train_steps = args.train_steps\n",
    "        self.step_scheduler_after = \"batch\"\n",
    "        \n",
    "    def forward(self, input_ids, attention_mask, token_type_ids):\n",
    "        pooledOut = self.model(input_ids=input_ids, attention_mask = attention_mask, token_type_ids = token_type_ids)\n",
    "        bertOut = self.dropout(pooledOut[1])\n",
    "        output = self.out(bertOut)\n",
    "        \n",
    "        return output"
   ]
  },
  {
   "cell_type": "code",
   "execution_count": 19,
   "metadata": {},
   "outputs": [],
   "source": [
    "from utils.dataset import MyDataset\n",
    "from transformers import AutoTokenizer, AutoModelForSequenceClassification\n",
    "def build_dataset(tokenizer, args):\n",
    "    train_dataset = MyDataset(train.text.tolist(), train[range(args.num_labels)].values.tolist(), tokenizer, args.tokenizer_max_len)\n",
    "    valid_dataset = MyDataset(valid.text.tolist(), valid[range(args.num_labels)].values.tolist(), tokenizer, args.tokenizer_max_len)\n",
    "    test_dataset = MyDataset(test.text.tolist(), test[range(args.num_labels)].values.tolist(), tokenizer, args.tokenizer_max_len)\n",
    "    return {\"train\": train_dataset, \"test\": test_dataset, \"valid\": valid_dataset}\n",
    "\n",
    "def build_dataloader(train_dataset, valid_dataset, test_dataset, args):\n",
    "    train_data_loader = DataLoader(train_dataset, batch_size=args.batch_size, shuffle=True, num_workers=2)\n",
    "    valid_data_loader = DataLoader(valid_dataset, batch_size=args.batch_size, shuffle=True, num_workers=1)\n",
    "    test_data_loader = DataLoader(test_dataset, batch_size=args.batch_size, shuffle=True, num_workers=1)\n",
    "    return {\"train\": train_data_loader, \"test\": test_data_loader, \"valid\": valid_data_loader}\n",
    "\n",
    "def ret_model(args):\n",
    "    # model = AutoModelForSequenceClassification.from_pretrained(args.model_ckpt, # Use the 12-layer BERT model, with an uncased vocab.\n",
    "    #     num_labels = args.num_labels, # The number of output labels--2 for binary classification.\n",
    "    #                     # You can increase this for multi-class tasks.   \n",
    "    #     output_attentions = False, # Whether the model returns attentions weights.\n",
    "    #     output_hidden_states = False, # Whether the model returns all hidden-states.\n",
    "    #     ignore_mismatched_sizes=True\n",
    "    #     )\n",
    "    model = TextClassification(args=args)\n",
    "    return model\n",
    "            \n",
    "def ret_tokenizer(args):\n",
    "    tokenizer = AutoTokenizer.from_pretrained(args.model_ckpt, do_lower_case=True)\n",
    "    return tokenizer"
   ]
  },
  {
   "cell_type": "code",
   "execution_count": 20,
   "metadata": {},
   "outputs": [],
   "source": [
    "from transformers import get_linear_schedule_with_warmup, AdamW\n",
    "\n",
    "def ret_optimizer(model, args):\n",
    "    # '''\n",
    "    # Taken from Abhishek Thakur's Tez library example: \n",
    "    # https://github.com/abhishekkrthakur/tez/blob/main/examples/text_classification/binary.py\n",
    "    # '''\n",
    "    param_optimizer = list(model.named_parameters())\n",
    "    no_decay = [\"bias\", \"LayerNorm.bias\"]\n",
    "    optimizer_parameters = [\n",
    "        {\n",
    "            \"params\": [\n",
    "                p for n, p in param_optimizer if not any(nd in n for nd in no_decay)\n",
    "            ],\n",
    "            \"weight_decay\": 0.001,\n",
    "        },\n",
    "        {\n",
    "            \"params\": [\n",
    "                p for n, p in param_optimizer if any(nd in n for nd in no_decay)\n",
    "            ],\n",
    "            \"weight_decay\": 0.0,\n",
    "        },\n",
    "    ]\n",
    "    opt = AdamW(optimizer_parameters, lr=args.lr)\n",
    "    scheduler = get_linear_schedule_with_warmup(opt, \n",
    "                                                num_warmup_steps = 0, # Default value in run_glue.py\n",
    "                                                num_training_steps = args.total_steps)\n",
    "    return {\"optimizer\": opt, \"scheduler\": scheduler}"
   ]
  },
  {
   "cell_type": "code",
   "execution_count": 21,
   "metadata": {},
   "outputs": [],
   "source": [
    "import time\n",
    "import datetime\n",
    "def format_time(elapsed):\n",
    "    '''\n",
    "    Takes a time in seconds and returns a string hh:mm:ss\n",
    "    '''\n",
    "    # Round to the nearest second.\n",
    "    elapsed_rounded = int(round((elapsed)))\n",
    "    \n",
    "    # Format as hh:mm:ss\n",
    "    return str(datetime.timedelta(seconds=elapsed_rounded))"
   ]
  },
  {
   "cell_type": "code",
   "execution_count": 22,
   "metadata": {},
   "outputs": [],
   "source": [
    "import random\n",
    "import numpy as np\n",
    "from utils.train import model_train\n",
    "from utils.eval import model_eval\n",
    "from utils.common_functions import log_metrics1\n",
    "\n",
    "def trainer(args):\n",
    "    seed_val = 42\n",
    "    random.seed(seed_val)\n",
    "    np.random.seed(seed_val)\n",
    "    torch.manual_seed(seed_val)\n",
    "    torch.cuda.manual_seed_all(seed_val)\n",
    "\n",
    "    all_train_loss = list()\n",
    "    val_loss_min = np.Inf\n",
    "    training_stats = []\n",
    "\n",
    "    tokenizer = ret_tokenizer(args=args)\n",
    "    dataset = build_dataset(tokenizer, args=args)\n",
    "    dataloader = build_dataloader(dataset['train'], dataset['valid'], dataset['test'], args=args)\n",
    "    args.train_steps = int(len(dataset['train']) / args.batch_size * 10) #(len(dataloader['train']) * args.epochs)\n",
    "    model = ret_model(args=args)\n",
    "    otpz = ret_optimizer(model, args=args)\n",
    "    optimizer = otpz['optimizer']\n",
    "    scheduler = otpz['scheduler']\n",
    "    \n",
    "    model.to(DEVICE)\n",
    "    model = nn.DataParallel(model)\n",
    "\n",
    "    #Train the model for given number of epochs\n",
    "    for epoch in tnrange(args.epochs, desc=\"Model Training\"):\n",
    "        param, loss, _ = model_train(DEVICE, model, dataloader['train'], optimizer, scheduler)\n",
    "        # model.load_state_dict(param)\n",
    "\n",
    "        #Update the global model\n",
    "        # global_model.load_state_dict(global_params)\n",
    "        all_train_loss.append(loss)\n",
    "        \n",
    "        #Test the global model\n",
    "        # val_acc, val_loss, val_auc = model_eval(DEVICE, global_model, validation_dataloader)\n",
    "        # avg_val_accuracy, avg_val_loss, avg_val_auc = model_eval(device, model, validation_dataloader)\n",
    "        eval_loss, preds, labels = model_eval(DEVICE, model, dataloader['valid'], args=args)\n",
    "\n",
    "        avg_eval_loss = eval_loss / len(dataloader['valid'])\n",
    "        auc_score = log_metrics1(preds, labels)[\"auc_micro\"]\n",
    "\n",
    "        # auc_score = log_metrics(preds, labels)[\"auc_micro\"]\n",
    "        # print(\"AUC score: \", auc_score)\n",
    "        # all_val_loss.append(val_loss)\n",
    "        \n",
    "        print('Epoch: {}/{}, Train Loss: {:.8f}, Val Loss: {:.8f}, Val AUC: {:.8f}'\\\n",
    "            .format(epoch , args.epochs, loss, avg_eval_loss, auc_score))\n",
    "        \n",
    "        training_stats.append(\n",
    "            {\n",
    "                'Round': epoch + 1,\n",
    "                'Train Loss': loss,\n",
    "                # 'Valid. Acc1': score['acc1'],\n",
    "                # 'Valid. Acc2': score['acc2'],\n",
    "                'Valid. Loss': avg_eval_loss,\n",
    "                'Valid. AUC': auc_score,\n",
    "                # 'Valid. F1': score['f1'],\n",
    "                # 'Valid. Precision': score['precision'],\n",
    "                # 'Valid. Recall': score['recall']\n",
    "            }\n",
    "        )\n",
    "        \n",
    "        #if validation loss decreases, save the model\n",
    "        if avg_eval_loss < val_loss_min:\n",
    "            val_loss_min = avg_eval_loss\n",
    "            # logger.info(\"Saving Model State\")\n",
    "            torch.save(model.state_dict(), \"./models/\" + args.model_ckpt + \"_.sav\")\n",
    "            \n",
    "    return training_stats\n",
    "\n",
    "#load the best model from training\n",
    "# global_model.load_state_dict(torch.load(\"./models/\"+ DATASET + \"_\" + str(NUM_CLIENTS) + \"_federated.sav\"))\n",
    "#test the model using test data"
   ]
  },
  {
   "cell_type": "code",
   "execution_count": 23,
   "metadata": {},
   "outputs": [
    {
     "name": "stderr",
     "output_type": "stream",
     "text": [
      "Some weights of the model checkpoint at bert-base-uncased were not used when initializing BertModel: ['cls.predictions.decoder.weight', 'cls.predictions.bias', 'cls.predictions.transform.LayerNorm.bias', 'cls.seq_relationship.weight', 'cls.predictions.transform.dense.bias', 'cls.predictions.transform.LayerNorm.weight', 'cls.seq_relationship.bias', 'cls.predictions.transform.dense.weight']\n",
      "- This IS expected if you are initializing BertModel from the checkpoint of a model trained on another task or with another architecture (e.g. initializing a BertForSequenceClassification model from a BertForPreTraining model).\n",
      "- This IS NOT expected if you are initializing BertModel from the checkpoint of a model that you expect to be exactly identical (initializing a BertForSequenceClassification model from a BertForSequenceClassification model).\n"
     ]
    },
    {
     "data": {
      "application/vnd.jupyter.widget-view+json": {
       "model_id": "99a28e7f7f5f44b899e47e501f8204d0",
       "version_major": 2,
       "version_minor": 0
      },
      "text/plain": [
       "Model Training:   0%|          | 0/10 [00:00<?, ?it/s]"
      ]
     },
     "metadata": {},
     "output_type": "display_data"
    },
    {
     "name": "stdout",
     "output_type": "stream",
     "text": [
      "Epoch: 0/10, Train Loss: 0.70645063, Val Loss: 0.69877301, Val AUC: 0.61130173\n",
      "Epoch: 1/10, Train Loss: 0.70659750, Val Loss: 0.69875247, Val AUC: 0.61130173\n",
      "Epoch: 2/10, Train Loss: 0.70663853, Val Loss: 0.69879114, Val AUC: 0.61130173\n",
      "Epoch: 3/10, Train Loss: 0.70662692, Val Loss: 0.69876248, Val AUC: 0.61130173\n",
      "Epoch: 4/10, Train Loss: 0.70640547, Val Loss: 0.69875478, Val AUC: 0.61130173\n",
      "Epoch: 5/10, Train Loss: 0.70660382, Val Loss: 0.69877517, Val AUC: 0.61130173\n",
      "Epoch: 6/10, Train Loss: 0.70642444, Val Loss: 0.69875774, Val AUC: 0.61130173\n",
      "Epoch: 7/10, Train Loss: 0.70666488, Val Loss: 0.69876124, Val AUC: 0.61130173\n",
      "Epoch: 8/10, Train Loss: 0.70664077, Val Loss: 0.69876989, Val AUC: 0.61130173\n",
      "Epoch: 9/10, Train Loss: 0.70644290, Val Loss: 0.69877110, Val AUC: 0.61130173\n"
     ]
    }
   ],
   "source": [
    "args.epochs = 10\n",
    "training_stats = trainer(args)"
   ]
  },
  {
   "cell_type": "code",
   "execution_count": 24,
   "metadata": {},
   "outputs": [
    {
     "data": {
      "text/html": [
       "<div>\n",
       "<style scoped>\n",
       "    .dataframe tbody tr th:only-of-type {\n",
       "        vertical-align: middle;\n",
       "    }\n",
       "\n",
       "    .dataframe tbody tr th {\n",
       "        vertical-align: top;\n",
       "    }\n",
       "\n",
       "    .dataframe thead th {\n",
       "        text-align: right;\n",
       "    }\n",
       "</style>\n",
       "<table border=\"1\" class=\"dataframe\">\n",
       "  <thead>\n",
       "    <tr style=\"text-align: right;\">\n",
       "      <th></th>\n",
       "      <th>Train Loss</th>\n",
       "      <th>Valid. Loss</th>\n",
       "      <th>Valid. AUC</th>\n",
       "    </tr>\n",
       "    <tr>\n",
       "      <th>Round</th>\n",
       "      <th></th>\n",
       "      <th></th>\n",
       "      <th></th>\n",
       "    </tr>\n",
       "  </thead>\n",
       "  <tbody>\n",
       "    <tr>\n",
       "      <th>1</th>\n",
       "      <td>0.706451</td>\n",
       "      <td>0.698773</td>\n",
       "      <td>0.611302</td>\n",
       "    </tr>\n",
       "    <tr>\n",
       "      <th>2</th>\n",
       "      <td>0.706597</td>\n",
       "      <td>0.698752</td>\n",
       "      <td>0.611302</td>\n",
       "    </tr>\n",
       "    <tr>\n",
       "      <th>3</th>\n",
       "      <td>0.706639</td>\n",
       "      <td>0.698791</td>\n",
       "      <td>0.611302</td>\n",
       "    </tr>\n",
       "    <tr>\n",
       "      <th>4</th>\n",
       "      <td>0.706627</td>\n",
       "      <td>0.698762</td>\n",
       "      <td>0.611302</td>\n",
       "    </tr>\n",
       "    <tr>\n",
       "      <th>5</th>\n",
       "      <td>0.706405</td>\n",
       "      <td>0.698755</td>\n",
       "      <td>0.611302</td>\n",
       "    </tr>\n",
       "    <tr>\n",
       "      <th>6</th>\n",
       "      <td>0.706604</td>\n",
       "      <td>0.698775</td>\n",
       "      <td>0.611302</td>\n",
       "    </tr>\n",
       "    <tr>\n",
       "      <th>7</th>\n",
       "      <td>0.706424</td>\n",
       "      <td>0.698758</td>\n",
       "      <td>0.611302</td>\n",
       "    </tr>\n",
       "    <tr>\n",
       "      <th>8</th>\n",
       "      <td>0.706665</td>\n",
       "      <td>0.698761</td>\n",
       "      <td>0.611302</td>\n",
       "    </tr>\n",
       "    <tr>\n",
       "      <th>9</th>\n",
       "      <td>0.706641</td>\n",
       "      <td>0.698770</td>\n",
       "      <td>0.611302</td>\n",
       "    </tr>\n",
       "    <tr>\n",
       "      <th>10</th>\n",
       "      <td>0.706443</td>\n",
       "      <td>0.698771</td>\n",
       "      <td>0.611302</td>\n",
       "    </tr>\n",
       "  </tbody>\n",
       "</table>\n",
       "</div>"
      ],
      "text/plain": [
       "       Train Loss  Valid. Loss  Valid. AUC\n",
       "Round                                     \n",
       "1        0.706451     0.698773    0.611302\n",
       "2        0.706597     0.698752    0.611302\n",
       "3        0.706639     0.698791    0.611302\n",
       "4        0.706627     0.698762    0.611302\n",
       "5        0.706405     0.698755    0.611302\n",
       "6        0.706604     0.698775    0.611302\n",
       "7        0.706424     0.698758    0.611302\n",
       "8        0.706665     0.698761    0.611302\n",
       "9        0.706641     0.698770    0.611302\n",
       "10       0.706443     0.698771    0.611302"
      ]
     },
     "execution_count": 24,
     "metadata": {},
     "output_type": "execute_result"
    }
   ],
   "source": [
    "import pandas as pd\n",
    "\n",
    "# Display floats with two decimal places.\n",
    "# pd.set_option('precision', 2)\n",
    "\n",
    "# Create a DataFrame from our training statistics.\n",
    "df_stats = pd.DataFrame(data=training_stats)\n",
    "\n",
    "# Use the 'epoch' as the row index.\n",
    "df_stats = df_stats.set_index('Round')\n",
    "\n",
    "# A hack to force the column headers to wrap.\n",
    "#df = df.style.set_table_styles([dict(selector=\"th\",props=[('max-width', '70px')])])\n",
    "\n",
    "# Display the table.\n",
    "df_stats"
   ]
  },
  {
   "cell_type": "code",
   "execution_count": 25,
   "metadata": {},
   "outputs": [],
   "source": [
    "# df_stats.to_csv(output_path)"
   ]
  },
  {
   "cell_type": "code",
   "execution_count": 26,
   "metadata": {},
   "outputs": [
    {
     "data": {
      "image/png": "[encoded data removed]",
      "text/plain": [
       "<Figure size 1200x600 with 1 Axes>"
      ]
     },
     "metadata": {},
     "output_type": "display_data"
    }
   ],
   "source": [
    "import matplotlib.pyplot as plt\n",
    "%matplotlib inline\n",
    "import seaborn as sns\n",
    "\n",
    "X = [i for i in range(args.epochs)]\n",
    "\n",
    "# Use plot styling from seaborn.\n",
    "sns.set(style='darkgrid')\n",
    "\n",
    "# Increase the plot size and font size.\n",
    "sns.set(font_scale=1.5)\n",
    "plt.rcParams[\"figure.figsize\"] = (12,6)\n",
    "\n",
    "# Plot the learning curve.\n",
    "plt.plot(X, df_stats['Train Loss'], 'b-o', label=\"Training\")\n",
    "plt.plot(X, df_stats['Valid. Loss'], 'g-o', label=\"Validation\")\n",
    "\n",
    "# Label the plot.\n",
    "plt.title(\"Training & Validation Loss\")\n",
    "plt.xlabel(\"Epoch\")\n",
    "plt.ylabel(\"Loss\")\n",
    "plt.legend()\n",
    "# plt.xticks(ls)\n",
    "\n",
    "plt.show()"
   ]
  },
  {
   "cell_type": "markdown",
   "metadata": {},
   "source": [
    "### Version checking"
   ]
  },
  {
   "cell_type": "code",
   "execution_count": 27,
   "metadata": {},
   "outputs": [
    {
     "data": {
      "text/plain": [
       "'1.13.0+cu117'"
      ]
     },
     "execution_count": 27,
     "metadata": {},
     "output_type": "execute_result"
    }
   ],
   "source": [
    "torch.__version__"
   ]
  }
 ],
 "metadata": {
  "kernelspec": {
   "display_name": "Python 3",
   "language": "python",
   "name": "python3"
  },
  "language_info": {
   "codemirror_mode": {
    "name": "ipython",
    "version": 3
   },
   "file_extension": ".py",
   "mimetype": "text/x-python",
   "name": "python",
   "nbconvert_exporter": "python",
   "pygments_lexer": "ipython3",
   "version": "3.9.13"
  }
 },
 "nbformat": 4,
 "nbformat_minor": 2
}
